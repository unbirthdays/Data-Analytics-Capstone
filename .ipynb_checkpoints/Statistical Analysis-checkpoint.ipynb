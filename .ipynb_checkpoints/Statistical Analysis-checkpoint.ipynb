{
 "cells": [
  {
   "cell_type": "code",
   "execution_count": 28,
   "id": "e4e6dd0e",
   "metadata": {},
   "outputs": [],
   "source": [
    "import numpy as np\n",
    "import pandas as pd\n",
    "import scipy\n",
    "import statsmodels.api as sm\n",
    "import matplotlib.pyplot as plt\n",
    "import seaborn as sns\n",
    "import sklearn\n",
    "from sklearn.linear_model import LinearRegression\n",
    "from sklearn.feature_selection import f_regression"
   ]
  },
  {
   "cell_type": "code",
   "execution_count": 7,
   "id": "d90cbeb5",
   "metadata": {},
   "outputs": [],
   "source": [
    "us_salary = pd.read_csv(\"us_salary_cleaned.csv\")"
   ]
  },
  {
   "cell_type": "code",
   "execution_count": 8,
   "id": "6d1391b6",
   "metadata": {},
   "outputs": [
    {
     "data": {
      "text/html": [
       "<div>\n",
       "<style scoped>\n",
       "    .dataframe tbody tr th:only-of-type {\n",
       "        vertical-align: middle;\n",
       "    }\n",
       "\n",
       "    .dataframe tbody tr th {\n",
       "        vertical-align: top;\n",
       "    }\n",
       "\n",
       "    .dataframe thead th {\n",
       "        text-align: right;\n",
       "    }\n",
       "</style>\n",
       "<table border=\"1\" class=\"dataframe\">\n",
       "  <thead>\n",
       "    <tr style=\"text-align: right;\">\n",
       "      <th></th>\n",
       "      <th>work_year</th>\n",
       "      <th>experience_level</th>\n",
       "      <th>exp_grade</th>\n",
       "      <th>job_title</th>\n",
       "      <th>job_type</th>\n",
       "      <th>salary</th>\n",
       "      <th>salary_currency</th>\n",
       "      <th>salary_in_usd</th>\n",
       "      <th>employee_residence</th>\n",
       "      <th>remote_ratio</th>\n",
       "      <th>company_location</th>\n",
       "      <th>company_size</th>\n",
       "      <th>comp_size_grade</th>\n",
       "      <th>usd_salary_zscore</th>\n",
       "    </tr>\n",
       "  </thead>\n",
       "  <tbody>\n",
       "    <tr>\n",
       "      <th>0</th>\n",
       "      <td>2020</td>\n",
       "      <td>SE</td>\n",
       "      <td>3</td>\n",
       "      <td>Machine Learning Engineer</td>\n",
       "      <td>Engineer</td>\n",
       "      <td>150000</td>\n",
       "      <td>USD</td>\n",
       "      <td>150000</td>\n",
       "      <td>US</td>\n",
       "      <td>50</td>\n",
       "      <td>US</td>\n",
       "      <td>L</td>\n",
       "      <td>3</td>\n",
       "      <td>0.526265</td>\n",
       "    </tr>\n",
       "    <tr>\n",
       "      <th>1</th>\n",
       "      <td>2020</td>\n",
       "      <td>EN</td>\n",
       "      <td>1</td>\n",
       "      <td>Data Analyst</td>\n",
       "      <td>Analyst</td>\n",
       "      <td>72000</td>\n",
       "      <td>USD</td>\n",
       "      <td>72000</td>\n",
       "      <td>US</td>\n",
       "      <td>100</td>\n",
       "      <td>US</td>\n",
       "      <td>L</td>\n",
       "      <td>3</td>\n",
       "      <td>-0.597373</td>\n",
       "    </tr>\n",
       "    <tr>\n",
       "      <th>2</th>\n",
       "      <td>2020</td>\n",
       "      <td>SE</td>\n",
       "      <td>3</td>\n",
       "      <td>Lead Data Scientist</td>\n",
       "      <td>Scientist</td>\n",
       "      <td>190000</td>\n",
       "      <td>USD</td>\n",
       "      <td>190000</td>\n",
       "      <td>US</td>\n",
       "      <td>100</td>\n",
       "      <td>US</td>\n",
       "      <td>S</td>\n",
       "      <td>1</td>\n",
       "      <td>1.102490</td>\n",
       "    </tr>\n",
       "    <tr>\n",
       "      <th>3</th>\n",
       "      <td>2020</td>\n",
       "      <td>MI</td>\n",
       "      <td>2</td>\n",
       "      <td>Business Data Analyst</td>\n",
       "      <td>Analyst</td>\n",
       "      <td>135000</td>\n",
       "      <td>USD</td>\n",
       "      <td>135000</td>\n",
       "      <td>US</td>\n",
       "      <td>100</td>\n",
       "      <td>US</td>\n",
       "      <td>L</td>\n",
       "      <td>3</td>\n",
       "      <td>0.310181</td>\n",
       "    </tr>\n",
       "    <tr>\n",
       "      <th>4</th>\n",
       "      <td>2020</td>\n",
       "      <td>MI</td>\n",
       "      <td>2</td>\n",
       "      <td>Lead Data Analyst</td>\n",
       "      <td>Analyst</td>\n",
       "      <td>87000</td>\n",
       "      <td>USD</td>\n",
       "      <td>87000</td>\n",
       "      <td>US</td>\n",
       "      <td>100</td>\n",
       "      <td>US</td>\n",
       "      <td>L</td>\n",
       "      <td>3</td>\n",
       "      <td>-0.381289</td>\n",
       "    </tr>\n",
       "    <tr>\n",
       "      <th>...</th>\n",
       "      <td>...</td>\n",
       "      <td>...</td>\n",
       "      <td>...</td>\n",
       "      <td>...</td>\n",
       "      <td>...</td>\n",
       "      <td>...</td>\n",
       "      <td>...</td>\n",
       "      <td>...</td>\n",
       "      <td>...</td>\n",
       "      <td>...</td>\n",
       "      <td>...</td>\n",
       "      <td>...</td>\n",
       "      <td>...</td>\n",
       "      <td>...</td>\n",
       "    </tr>\n",
       "    <tr>\n",
       "      <th>330</th>\n",
       "      <td>2022</td>\n",
       "      <td>SE</td>\n",
       "      <td>3</td>\n",
       "      <td>Data Engineer</td>\n",
       "      <td>Engineer</td>\n",
       "      <td>154000</td>\n",
       "      <td>USD</td>\n",
       "      <td>154000</td>\n",
       "      <td>US</td>\n",
       "      <td>100</td>\n",
       "      <td>US</td>\n",
       "      <td>M</td>\n",
       "      <td>2</td>\n",
       "      <td>0.583887</td>\n",
       "    </tr>\n",
       "    <tr>\n",
       "      <th>331</th>\n",
       "      <td>2022</td>\n",
       "      <td>SE</td>\n",
       "      <td>3</td>\n",
       "      <td>Data Engineer</td>\n",
       "      <td>Engineer</td>\n",
       "      <td>126000</td>\n",
       "      <td>USD</td>\n",
       "      <td>126000</td>\n",
       "      <td>US</td>\n",
       "      <td>100</td>\n",
       "      <td>US</td>\n",
       "      <td>M</td>\n",
       "      <td>2</td>\n",
       "      <td>0.180530</td>\n",
       "    </tr>\n",
       "    <tr>\n",
       "      <th>332</th>\n",
       "      <td>2022</td>\n",
       "      <td>SE</td>\n",
       "      <td>3</td>\n",
       "      <td>Data Analyst</td>\n",
       "      <td>Analyst</td>\n",
       "      <td>129000</td>\n",
       "      <td>USD</td>\n",
       "      <td>129000</td>\n",
       "      <td>US</td>\n",
       "      <td>0</td>\n",
       "      <td>US</td>\n",
       "      <td>M</td>\n",
       "      <td>2</td>\n",
       "      <td>0.223747</td>\n",
       "    </tr>\n",
       "    <tr>\n",
       "      <th>333</th>\n",
       "      <td>2022</td>\n",
       "      <td>SE</td>\n",
       "      <td>3</td>\n",
       "      <td>Data Analyst</td>\n",
       "      <td>Analyst</td>\n",
       "      <td>150000</td>\n",
       "      <td>USD</td>\n",
       "      <td>150000</td>\n",
       "      <td>US</td>\n",
       "      <td>100</td>\n",
       "      <td>US</td>\n",
       "      <td>M</td>\n",
       "      <td>2</td>\n",
       "      <td>0.526265</td>\n",
       "    </tr>\n",
       "    <tr>\n",
       "      <th>334</th>\n",
       "      <td>2022</td>\n",
       "      <td>MI</td>\n",
       "      <td>2</td>\n",
       "      <td>AI Scientist</td>\n",
       "      <td>Scientist</td>\n",
       "      <td>200000</td>\n",
       "      <td>USD</td>\n",
       "      <td>200000</td>\n",
       "      <td>IN</td>\n",
       "      <td>100</td>\n",
       "      <td>US</td>\n",
       "      <td>L</td>\n",
       "      <td>3</td>\n",
       "      <td>1.246546</td>\n",
       "    </tr>\n",
       "  </tbody>\n",
       "</table>\n",
       "<p>335 rows × 14 columns</p>\n",
       "</div>"
      ],
      "text/plain": [
       "     work_year experience_level  exp_grade                  job_title  \\\n",
       "0         2020               SE          3  Machine Learning Engineer   \n",
       "1         2020               EN          1               Data Analyst   \n",
       "2         2020               SE          3        Lead Data Scientist   \n",
       "3         2020               MI          2      Business Data Analyst   \n",
       "4         2020               MI          2          Lead Data Analyst   \n",
       "..         ...              ...        ...                        ...   \n",
       "330       2022               SE          3              Data Engineer   \n",
       "331       2022               SE          3              Data Engineer   \n",
       "332       2022               SE          3               Data Analyst   \n",
       "333       2022               SE          3               Data Analyst   \n",
       "334       2022               MI          2               AI Scientist   \n",
       "\n",
       "      job_type  salary salary_currency  salary_in_usd employee_residence  \\\n",
       "0     Engineer  150000             USD         150000                 US   \n",
       "1      Analyst   72000             USD          72000                 US   \n",
       "2    Scientist  190000             USD         190000                 US   \n",
       "3      Analyst  135000             USD         135000                 US   \n",
       "4      Analyst   87000             USD          87000                 US   \n",
       "..         ...     ...             ...            ...                ...   \n",
       "330   Engineer  154000             USD         154000                 US   \n",
       "331   Engineer  126000             USD         126000                 US   \n",
       "332    Analyst  129000             USD         129000                 US   \n",
       "333    Analyst  150000             USD         150000                 US   \n",
       "334  Scientist  200000             USD         200000                 IN   \n",
       "\n",
       "     remote_ratio company_location company_size  comp_size_grade  \\\n",
       "0              50               US            L                3   \n",
       "1             100               US            L                3   \n",
       "2             100               US            S                1   \n",
       "3             100               US            L                3   \n",
       "4             100               US            L                3   \n",
       "..            ...              ...          ...              ...   \n",
       "330           100               US            M                2   \n",
       "331           100               US            M                2   \n",
       "332             0               US            M                2   \n",
       "333           100               US            M                2   \n",
       "334           100               US            L                3   \n",
       "\n",
       "     usd_salary_zscore  \n",
       "0             0.526265  \n",
       "1            -0.597373  \n",
       "2             1.102490  \n",
       "3             0.310181  \n",
       "4            -0.381289  \n",
       "..                 ...  \n",
       "330           0.583887  \n",
       "331           0.180530  \n",
       "332           0.223747  \n",
       "333           0.526265  \n",
       "334           1.246546  \n",
       "\n",
       "[335 rows x 14 columns]"
      ]
     },
     "execution_count": 8,
     "metadata": {},
     "output_type": "execute_result"
    }
   ],
   "source": [
    "us_salary"
   ]
  },
  {
   "cell_type": "code",
   "execution_count": 13,
   "id": "96855c1a",
   "metadata": {},
   "outputs": [],
   "source": [
    "x1 = us_salary.exp_grade\n",
    "y = us_salary.salary_in_usd"
   ]
  },
  {
   "cell_type": "code",
   "execution_count": 14,
   "id": "55b06be9",
   "metadata": {},
   "outputs": [
    {
     "data": {
      "text/plain": [
       "(0.0, 288550.0)"
      ]
     },
     "execution_count": 14,
     "metadata": {},
     "output_type": "execute_result"
    },
    {
     "data": {
      "image/png": "[encoded data removed]",
      "text/plain": [
       "<Figure size 640x480 with 1 Axes>"
      ]
     },
     "metadata": {},
     "output_type": "display_data"
    }
   ],
   "source": [
    "plt.scatter(x1, y)\n",
    "plt.xlabel('Level of Experience')\n",
    "plt.ylabel('Salary (USD)')\n",
    "plt.xlim(0)\n",
    "plt.ylim(0)"
   ]
  },
  {
   "cell_type": "code",
   "execution_count": 15,
   "id": "aa784654",
   "metadata": {},
   "outputs": [
    {
     "data": {
      "text/html": [
       "<table class=\"simpletable\">\n",
       "<caption>OLS Regression Results</caption>\n",
       "<tr>\n",
       "  <th>Dep. Variable:</th>      <td>salary_in_usd</td>  <th>  R-squared:         </th> <td>   0.163</td>\n",
       "</tr>\n",
       "<tr>\n",
       "  <th>Model:</th>                   <td>OLS</td>       <th>  Adj. R-squared:    </th> <td>   0.161</td>\n",
       "</tr>\n",
       "<tr>\n",
       "  <th>Method:</th>             <td>Least Squares</td>  <th>  F-statistic:       </th> <td>   65.05</td>\n",
       "</tr>\n",
       "<tr>\n",
       "  <th>Date:</th>             <td>Thu, 20 Apr 2023</td> <th>  Prob (F-statistic):</th> <td>1.33e-14</td>\n",
       "</tr>\n",
       "<tr>\n",
       "  <th>Time:</th>                 <td>03:41:49</td>     <th>  Log-Likelihood:    </th> <td> -4064.6</td>\n",
       "</tr>\n",
       "<tr>\n",
       "  <th>No. Observations:</th>      <td>   335</td>      <th>  AIC:               </th> <td>   8133.</td>\n",
       "</tr>\n",
       "<tr>\n",
       "  <th>Df Residuals:</th>          <td>   333</td>      <th>  BIC:               </th> <td>   8141.</td>\n",
       "</tr>\n",
       "<tr>\n",
       "  <th>Df Model:</th>              <td>     1</td>      <th>                     </th>     <td> </td>   \n",
       "</tr>\n",
       "<tr>\n",
       "  <th>Covariance Type:</th>      <td>nonrobust</td>    <th>                     </th>     <td> </td>   \n",
       "</tr>\n",
       "</table>\n",
       "<table class=\"simpletable\">\n",
       "<tr>\n",
       "      <td></td>         <th>coef</th>     <th>std err</th>      <th>t</th>      <th>P>|t|</th>  <th>[0.025</th>    <th>0.975]</th>  \n",
       "</tr>\n",
       "<tr>\n",
       "  <th>const</th>     <td> 6.195e+04</td> <td> 9701.339</td> <td>    6.386</td> <td> 0.000</td> <td> 4.29e+04</td> <td>  8.1e+04</td>\n",
       "</tr>\n",
       "<tr>\n",
       "  <th>exp_grade</th> <td> 2.888e+04</td> <td> 3580.029</td> <td>    8.066</td> <td> 0.000</td> <td> 2.18e+04</td> <td> 3.59e+04</td>\n",
       "</tr>\n",
       "</table>\n",
       "<table class=\"simpletable\">\n",
       "<tr>\n",
       "  <th>Omnibus:</th>       <td> 8.504</td> <th>  Durbin-Watson:     </th> <td>   1.843</td>\n",
       "</tr>\n",
       "<tr>\n",
       "  <th>Prob(Omnibus):</th> <td> 0.014</td> <th>  Jarque-Bera (JB):  </th> <td>   8.396</td>\n",
       "</tr>\n",
       "<tr>\n",
       "  <th>Skew:</th>          <td> 0.367</td> <th>  Prob(JB):          </th> <td>  0.0150</td>\n",
       "</tr>\n",
       "<tr>\n",
       "  <th>Kurtosis:</th>      <td> 3.253</td> <th>  Cond. No.          </th> <td>    12.0</td>\n",
       "</tr>\n",
       "</table><br/><br/>Notes:<br/>[1] Standard Errors assume that the covariance matrix of the errors is correctly specified."
      ],
      "text/plain": [
       "<class 'statsmodels.iolib.summary.Summary'>\n",
       "\"\"\"\n",
       "                            OLS Regression Results                            \n",
       "==============================================================================\n",
       "Dep. Variable:          salary_in_usd   R-squared:                       0.163\n",
       "Model:                            OLS   Adj. R-squared:                  0.161\n",
       "Method:                 Least Squares   F-statistic:                     65.05\n",
       "Date:                Thu, 20 Apr 2023   Prob (F-statistic):           1.33e-14\n",
       "Time:                        03:41:49   Log-Likelihood:                -4064.6\n",
       "No. Observations:                 335   AIC:                             8133.\n",
       "Df Residuals:                     333   BIC:                             8141.\n",
       "Df Model:                           1                                         \n",
       "Covariance Type:            nonrobust                                         \n",
       "==============================================================================\n",
       "                 coef    std err          t      P>|t|      [0.025      0.975]\n",
       "------------------------------------------------------------------------------\n",
       "const       6.195e+04   9701.339      6.386      0.000    4.29e+04     8.1e+04\n",
       "exp_grade   2.888e+04   3580.029      8.066      0.000    2.18e+04    3.59e+04\n",
       "==============================================================================\n",
       "Omnibus:                        8.504   Durbin-Watson:                   1.843\n",
       "Prob(Omnibus):                  0.014   Jarque-Bera (JB):                8.396\n",
       "Skew:                           0.367   Prob(JB):                       0.0150\n",
       "Kurtosis:                       3.253   Cond. No.                         12.0\n",
       "==============================================================================\n",
       "\n",
       "Notes:\n",
       "[1] Standard Errors assume that the covariance matrix of the errors is correctly specified.\n",
       "\"\"\""
      ]
     },
     "execution_count": 15,
     "metadata": {},
     "output_type": "execute_result"
    }
   ],
   "source": [
    "x = sm.add_constant(x1)\n",
    "results = sm.OLS(y, x).fit()\n",
    "results.summary()"
   ]
  },
  {
   "cell_type": "code",
   "execution_count": 16,
   "id": "fe22046a",
   "metadata": {},
   "outputs": [
    {
     "data": {
      "image/png": "[encoded data removed]",
      "text/plain": [
       "<Figure size 640x480 with 1 Axes>"
      ]
     },
     "metadata": {},
     "output_type": "display_data"
    }
   ],
   "source": [
    "plt.scatter(x1, y)\n",
    "plt.xlabel('Level of Experience')\n",
    "plt.ylabel('Salary (USD)')\n",
    "plt.xlim(0)\n",
    "plt.ylim(0)\n",
    "yhat = 2.888e+04 * x1 + 6.195e+04\n",
    "fig = plt.plot(x1, yhat, lw = 2, c = \"orange\", label = \"regression line\")"
   ]
  },
  {
   "cell_type": "markdown",
   "id": "bf6e456a",
   "metadata": {},
   "source": [
    "Interpret the following from your model:\n",
    "\n",
    "- R-squared \n",
    "\n",
    "The value is low (0.163), so there is a relatively low level of explanatory power of the level of experience when it comes to the salary of a data science professional. \n",
    "\n",
    "- Coefficient of independent variable\n",
    "\n",
    "The coefficient is 28880. It is positive, so as experience level increases, the mean of the salary does as well.\n",
    "\n",
    "- P-value of T-statistic\n",
    "\n",
    "The p-value of the T-statistic is 0, so experience level is a significant variable that affects salary. We cannot dismiss it as a factor since it suggests strong evidence against the null hypothesis (null hypothesis being that experience level does not factor into salary for a data science professional).\n",
    "\n",
    "- P-value of F-statistic\n",
    "\n",
    "The p-value of the F-statistic is 0.0000000000000133. It is virtually 0 and shows that this regression model fits better than if there were no independent variables at all."
   ]
  },
  {
   "cell_type": "code",
   "execution_count": 17,
   "id": "9d10276c",
   "metadata": {},
   "outputs": [
    {
     "data": {
      "text/plain": [
       "0      3\n",
       "1      1\n",
       "2      3\n",
       "3      2\n",
       "4      2\n",
       "      ..\n",
       "330    3\n",
       "331    3\n",
       "332    3\n",
       "333    3\n",
       "334    2\n",
       "Name: exp_grade, Length: 335, dtype: int64"
      ]
     },
     "execution_count": 17,
     "metadata": {},
     "output_type": "execute_result"
    }
   ],
   "source": [
    "x1"
   ]
  },
  {
   "cell_type": "code",
   "execution_count": 18,
   "id": "68c1e708",
   "metadata": {},
   "outputs": [],
   "source": [
    "x2 = us_salary[['work_year', 'exp_grade', 'remote_ratio', 'comp_size_grade']]"
   ]
  },
  {
   "cell_type": "code",
   "execution_count": 19,
   "id": "bb2dd505",
   "metadata": {},
   "outputs": [],
   "source": [
    "reg = LinearRegression()"
   ]
  },
  {
   "cell_type": "code",
   "execution_count": 20,
   "id": "f20049f5",
   "metadata": {},
   "outputs": [
    {
     "data": {
      "text/html": [
       "<div>\n",
       "<style scoped>\n",
       "    .dataframe tbody tr th:only-of-type {\n",
       "        vertical-align: middle;\n",
       "    }\n",
       "\n",
       "    .dataframe tbody tr th {\n",
       "        vertical-align: top;\n",
       "    }\n",
       "\n",
       "    .dataframe thead th {\n",
       "        text-align: right;\n",
       "    }\n",
       "</style>\n",
       "<table border=\"1\" class=\"dataframe\">\n",
       "  <thead>\n",
       "    <tr style=\"text-align: right;\">\n",
       "      <th></th>\n",
       "      <th>work_year</th>\n",
       "      <th>exp_grade</th>\n",
       "      <th>salary</th>\n",
       "      <th>salary_in_usd</th>\n",
       "      <th>remote_ratio</th>\n",
       "      <th>comp_size_grade</th>\n",
       "      <th>usd_salary_zscore</th>\n",
       "    </tr>\n",
       "  </thead>\n",
       "  <tbody>\n",
       "    <tr>\n",
       "      <th>count</th>\n",
       "      <td>335.000000</td>\n",
       "      <td>335.000000</td>\n",
       "      <td>3.350000e+02</td>\n",
       "      <td>335.000000</td>\n",
       "      <td>335.000000</td>\n",
       "      <td>335.000000</td>\n",
       "      <td>335.000000</td>\n",
       "    </tr>\n",
       "    <tr>\n",
       "      <th>mean</th>\n",
       "      <td>2021.588060</td>\n",
       "      <td>2.620896</td>\n",
       "      <td>1.826572e+05</td>\n",
       "      <td>137626.683582</td>\n",
       "      <td>77.164179</td>\n",
       "      <td>2.202985</td>\n",
       "      <td>0.348020</td>\n",
       "    </tr>\n",
       "    <tr>\n",
       "      <th>std</th>\n",
       "      <td>0.626635</td>\n",
       "      <td>0.689645</td>\n",
       "      <td>6.310977e+05</td>\n",
       "      <td>49258.719178</td>\n",
       "      <td>40.313367</td>\n",
       "      <td>0.569160</td>\n",
       "      <td>0.709602</td>\n",
       "    </tr>\n",
       "    <tr>\n",
       "      <th>min</th>\n",
       "      <td>2020.000000</td>\n",
       "      <td>1.000000</td>\n",
       "      <td>2.200000e+04</td>\n",
       "      <td>25000.000000</td>\n",
       "      <td>0.000000</td>\n",
       "      <td>1.000000</td>\n",
       "      <td>-1.274437</td>\n",
       "    </tr>\n",
       "    <tr>\n",
       "      <th>25%</th>\n",
       "      <td>2021.000000</td>\n",
       "      <td>2.000000</td>\n",
       "      <td>1.025500e+05</td>\n",
       "      <td>101185.000000</td>\n",
       "      <td>50.000000</td>\n",
       "      <td>2.000000</td>\n",
       "      <td>-0.176945</td>\n",
       "    </tr>\n",
       "    <tr>\n",
       "      <th>50%</th>\n",
       "      <td>2022.000000</td>\n",
       "      <td>3.000000</td>\n",
       "      <td>1.350000e+05</td>\n",
       "      <td>135000.000000</td>\n",
       "      <td>100.000000</td>\n",
       "      <td>2.000000</td>\n",
       "      <td>0.310181</td>\n",
       "    </tr>\n",
       "    <tr>\n",
       "      <th>75%</th>\n",
       "      <td>2022.000000</td>\n",
       "      <td>3.000000</td>\n",
       "      <td>1.700000e+05</td>\n",
       "      <td>168937.500000</td>\n",
       "      <td>100.000000</td>\n",
       "      <td>3.000000</td>\n",
       "      <td>0.799071</td>\n",
       "    </tr>\n",
       "    <tr>\n",
       "      <th>max</th>\n",
       "      <td>2022.000000</td>\n",
       "      <td>4.000000</td>\n",
       "      <td>1.100000e+07</td>\n",
       "      <td>276000.000000</td>\n",
       "      <td>100.000000</td>\n",
       "      <td>3.000000</td>\n",
       "      <td>2.341373</td>\n",
       "    </tr>\n",
       "  </tbody>\n",
       "</table>\n",
       "</div>"
      ],
      "text/plain": [
       "         work_year   exp_grade        salary  salary_in_usd  remote_ratio  \\\n",
       "count   335.000000  335.000000  3.350000e+02     335.000000    335.000000   \n",
       "mean   2021.588060    2.620896  1.826572e+05  137626.683582     77.164179   \n",
       "std       0.626635    0.689645  6.310977e+05   49258.719178     40.313367   \n",
       "min    2020.000000    1.000000  2.200000e+04   25000.000000      0.000000   \n",
       "25%    2021.000000    2.000000  1.025500e+05  101185.000000     50.000000   \n",
       "50%    2022.000000    3.000000  1.350000e+05  135000.000000    100.000000   \n",
       "75%    2022.000000    3.000000  1.700000e+05  168937.500000    100.000000   \n",
       "max    2022.000000    4.000000  1.100000e+07  276000.000000    100.000000   \n",
       "\n",
       "       comp_size_grade  usd_salary_zscore  \n",
       "count       335.000000         335.000000  \n",
       "mean          2.202985           0.348020  \n",
       "std           0.569160           0.709602  \n",
       "min           1.000000          -1.274437  \n",
       "25%           2.000000          -0.176945  \n",
       "50%           2.000000           0.310181  \n",
       "75%           3.000000           0.799071  \n",
       "max           3.000000           2.341373  "
      ]
     },
     "execution_count": 20,
     "metadata": {},
     "output_type": "execute_result"
    }
   ],
   "source": [
    "us_salary.describe()"
   ]
  },
  {
   "cell_type": "code",
   "execution_count": 21,
   "id": "e18c5005",
   "metadata": {},
   "outputs": [
    {
     "data": {
      "text/html": [
       "<style>#sk-container-id-1 {color: black;background-color: white;}#sk-container-id-1 pre{padding: 0;}#sk-container-id-1 div.sk-toggleable {background-color: white;}#sk-container-id-1 label.sk-toggleable__label {cursor: pointer;display: block;width: 100%;margin-bottom: 0;padding: 0.3em;box-sizing: border-box;text-align: center;}#sk-container-id-1 label.sk-toggleable__label-arrow:before {content: \"▸\";float: left;margin-right: 0.25em;color: #696969;}#sk-container-id-1 label.sk-toggleable__label-arrow:hover:before {color: black;}#sk-container-id-1 div.sk-estimator:hover label.sk-toggleable__label-arrow:before {color: black;}#sk-container-id-1 div.sk-toggleable__content {max-height: 0;max-width: 0;overflow: hidden;text-align: left;background-color: #f0f8ff;}#sk-container-id-1 div.sk-toggleable__content pre {margin: 0.2em;color: black;border-radius: 0.25em;background-color: #f0f8ff;}#sk-container-id-1 input.sk-toggleable__control:checked~div.sk-toggleable__content {max-height: 200px;max-width: 100%;overflow: auto;}#sk-container-id-1 input.sk-toggleable__control:checked~label.sk-toggleable__label-arrow:before {content: \"▾\";}#sk-container-id-1 div.sk-estimator input.sk-toggleable__control:checked~label.sk-toggleable__label {background-color: #d4ebff;}#sk-container-id-1 div.sk-label input.sk-toggleable__control:checked~label.sk-toggleable__label {background-color: #d4ebff;}#sk-container-id-1 input.sk-hidden--visually {border: 0;clip: rect(1px 1px 1px 1px);clip: rect(1px, 1px, 1px, 1px);height: 1px;margin: -1px;overflow: hidden;padding: 0;position: absolute;width: 1px;}#sk-container-id-1 div.sk-estimator {font-family: monospace;background-color: #f0f8ff;border: 1px dotted black;border-radius: 0.25em;box-sizing: border-box;margin-bottom: 0.5em;}#sk-container-id-1 div.sk-estimator:hover {background-color: #d4ebff;}#sk-container-id-1 div.sk-parallel-item::after {content: \"\";width: 100%;border-bottom: 1px solid gray;flex-grow: 1;}#sk-container-id-1 div.sk-label:hover label.sk-toggleable__label {background-color: #d4ebff;}#sk-container-id-1 div.sk-serial::before {content: \"\";position: absolute;border-left: 1px solid gray;box-sizing: border-box;top: 0;bottom: 0;left: 50%;z-index: 0;}#sk-container-id-1 div.sk-serial {display: flex;flex-direction: column;align-items: center;background-color: white;padding-right: 0.2em;padding-left: 0.2em;position: relative;}#sk-container-id-1 div.sk-item {position: relative;z-index: 1;}#sk-container-id-1 div.sk-parallel {display: flex;align-items: stretch;justify-content: center;background-color: white;position: relative;}#sk-container-id-1 div.sk-item::before, #sk-container-id-1 div.sk-parallel-item::before {content: \"\";position: absolute;border-left: 1px solid gray;box-sizing: border-box;top: 0;bottom: 0;left: 50%;z-index: -1;}#sk-container-id-1 div.sk-parallel-item {display: flex;flex-direction: column;z-index: 1;position: relative;background-color: white;}#sk-container-id-1 div.sk-parallel-item:first-child::after {align-self: flex-end;width: 50%;}#sk-container-id-1 div.sk-parallel-item:last-child::after {align-self: flex-start;width: 50%;}#sk-container-id-1 div.sk-parallel-item:only-child::after {width: 0;}#sk-container-id-1 div.sk-dashed-wrapped {border: 1px dashed gray;margin: 0 0.4em 0.5em 0.4em;box-sizing: border-box;padding-bottom: 0.4em;background-color: white;}#sk-container-id-1 div.sk-label label {font-family: monospace;font-weight: bold;display: inline-block;line-height: 1.2em;}#sk-container-id-1 div.sk-label-container {text-align: center;}#sk-container-id-1 div.sk-container {/* jupyter's `normalize.less` sets `[hidden] { display: none; }` but bootstrap.min.css set `[hidden] { display: none !important; }` so we also need the `!important` here to be able to override the default hidden behavior on the sphinx rendered scikit-learn.org. See: https://github.com/scikit-learn/scikit-learn/issues/21755 */display: inline-block !important;position: relative;}#sk-container-id-1 div.sk-text-repr-fallback {display: none;}</style><div id=\"sk-container-id-1\" class=\"sk-top-container\"><div class=\"sk-text-repr-fallback\"><pre>LinearRegression()</pre><b>In a Jupyter environment, please rerun this cell to show the HTML representation or trust the notebook. <br />On GitHub, the HTML representation is unable to render, please try loading this page with nbviewer.org.</b></div><div class=\"sk-container\" hidden><div class=\"sk-item\"><div class=\"sk-estimator sk-toggleable\"><input class=\"sk-toggleable__control sk-hidden--visually\" id=\"sk-estimator-id-1\" type=\"checkbox\" checked><label for=\"sk-estimator-id-1\" class=\"sk-toggleable__label sk-toggleable__label-arrow\">LinearRegression</label><div class=\"sk-toggleable__content\"><pre>LinearRegression()</pre></div></div></div></div></div>"
      ],
      "text/plain": [
       "LinearRegression()"
      ]
     },
     "execution_count": 21,
     "metadata": {},
     "output_type": "execute_result"
    }
   ],
   "source": [
    "reg.fit(x2, y)"
   ]
  },
  {
   "cell_type": "code",
   "execution_count": 22,
   "id": "646de382",
   "metadata": {},
   "outputs": [
    {
     "data": {
      "text/plain": [
       "array([ 1281.4002451 , 28244.77606445,    65.26050391, 13664.5925811 ])"
      ]
     },
     "execution_count": 22,
     "metadata": {},
     "output_type": "execute_result"
    }
   ],
   "source": [
    "reg.coef_"
   ]
  },
  {
   "cell_type": "code",
   "execution_count": 23,
   "id": "60c85664",
   "metadata": {},
   "outputs": [
    {
     "data": {
      "text/plain": [
       "-2562002.025452941"
      ]
     },
     "execution_count": 23,
     "metadata": {},
     "output_type": "execute_result"
    }
   ],
   "source": [
    "reg.intercept_"
   ]
  },
  {
   "cell_type": "code",
   "execution_count": 24,
   "id": "58d65122",
   "metadata": {},
   "outputs": [
    {
     "data": {
      "text/plain": [
       "0.1890694649535013"
      ]
     },
     "execution_count": 24,
     "metadata": {},
     "output_type": "execute_result"
    }
   ],
   "source": [
    "reg.score(x2, y)"
   ]
  },
  {
   "cell_type": "code",
   "execution_count": 25,
   "id": "d17f5e1b",
   "metadata": {},
   "outputs": [
    {
     "data": {
      "text/plain": [
       "(335, 4)"
      ]
     },
     "execution_count": 25,
     "metadata": {},
     "output_type": "execute_result"
    }
   ],
   "source": [
    "x2.shape"
   ]
  },
  {
   "cell_type": "code",
   "execution_count": 26,
   "id": "f9a16b05",
   "metadata": {},
   "outputs": [],
   "source": [
    "r2 = reg.score(x2, y)\n",
    "n = x2.shape[0]\n",
    "p = x2.shape[1]\n",
    "adjusted_r2 = 1-(1-r2)*(n-1)/(n-p-1)"
   ]
  },
  {
   "cell_type": "code",
   "execution_count": 27,
   "id": "27816e33",
   "metadata": {},
   "outputs": [
    {
     "data": {
      "text/plain": [
       "0.17924000392263462"
      ]
     },
     "execution_count": 27,
     "metadata": {},
     "output_type": "execute_result"
    }
   ],
   "source": [
    "adjusted_r2"
   ]
  },
  {
   "cell_type": "code",
   "execution_count": 29,
   "id": "64328a8a",
   "metadata": {},
   "outputs": [
    {
     "data": {
      "text/plain": [
       "(array([ 7.32952906, 65.05416532,  1.13268527,  7.67940736]),\n",
       " array([7.13298735e-03, 1.33020089e-14, 2.87974405e-01, 5.89923484e-03]))"
      ]
     },
     "execution_count": 29,
     "metadata": {},
     "output_type": "execute_result"
    }
   ],
   "source": [
    "f_regression(x2, y)"
   ]
  },
  {
   "cell_type": "code",
   "execution_count": 30,
   "id": "8ba81b86",
   "metadata": {},
   "outputs": [
    {
     "data": {
      "text/plain": [
       "array([0.007, 0.   , 0.288, 0.006])"
      ]
     },
     "execution_count": 30,
     "metadata": {},
     "output_type": "execute_result"
    }
   ],
   "source": [
    "p_values = f_regression(x2, y)[1]\n",
    "p_values.round(3)"
   ]
  },
  {
   "cell_type": "code",
   "execution_count": 31,
   "id": "f2292a35",
   "metadata": {},
   "outputs": [
    {
     "data": {
      "text/html": [
       "<div>\n",
       "<style scoped>\n",
       "    .dataframe tbody tr th:only-of-type {\n",
       "        vertical-align: middle;\n",
       "    }\n",
       "\n",
       "    .dataframe tbody tr th {\n",
       "        vertical-align: top;\n",
       "    }\n",
       "\n",
       "    .dataframe thead th {\n",
       "        text-align: right;\n",
       "    }\n",
       "</style>\n",
       "<table border=\"1\" class=\"dataframe\">\n",
       "  <thead>\n",
       "    <tr style=\"text-align: right;\">\n",
       "      <th></th>\n",
       "      <th>Features</th>\n",
       "    </tr>\n",
       "  </thead>\n",
       "  <tbody>\n",
       "    <tr>\n",
       "      <th>0</th>\n",
       "      <td>work_year</td>\n",
       "    </tr>\n",
       "    <tr>\n",
       "      <th>1</th>\n",
       "      <td>exp_grade</td>\n",
       "    </tr>\n",
       "    <tr>\n",
       "      <th>2</th>\n",
       "      <td>remote_ratio</td>\n",
       "    </tr>\n",
       "    <tr>\n",
       "      <th>3</th>\n",
       "      <td>comp_size_grade</td>\n",
       "    </tr>\n",
       "  </tbody>\n",
       "</table>\n",
       "</div>"
      ],
      "text/plain": [
       "          Features\n",
       "0        work_year\n",
       "1        exp_grade\n",
       "2     remote_ratio\n",
       "3  comp_size_grade"
      ]
     },
     "execution_count": 31,
     "metadata": {},
     "output_type": "execute_result"
    }
   ],
   "source": [
    "reg_summary = pd.DataFrame(data = x2.columns.values, columns = ['Features'])\n",
    "reg_summary"
   ]
  },
  {
   "cell_type": "code",
   "execution_count": 32,
   "id": "a14eb2e6",
   "metadata": {},
   "outputs": [
    {
     "data": {
      "text/html": [
       "<div>\n",
       "<style scoped>\n",
       "    .dataframe tbody tr th:only-of-type {\n",
       "        vertical-align: middle;\n",
       "    }\n",
       "\n",
       "    .dataframe tbody tr th {\n",
       "        vertical-align: top;\n",
       "    }\n",
       "\n",
       "    .dataframe thead th {\n",
       "        text-align: right;\n",
       "    }\n",
       "</style>\n",
       "<table border=\"1\" class=\"dataframe\">\n",
       "  <thead>\n",
       "    <tr style=\"text-align: right;\">\n",
       "      <th></th>\n",
       "      <th>Features</th>\n",
       "      <th>Coefficients</th>\n",
       "      <th>p-values</th>\n",
       "    </tr>\n",
       "  </thead>\n",
       "  <tbody>\n",
       "    <tr>\n",
       "      <th>0</th>\n",
       "      <td>work_year</td>\n",
       "      <td>1281.400245</td>\n",
       "      <td>0.007</td>\n",
       "    </tr>\n",
       "    <tr>\n",
       "      <th>1</th>\n",
       "      <td>exp_grade</td>\n",
       "      <td>28244.776064</td>\n",
       "      <td>0.000</td>\n",
       "    </tr>\n",
       "    <tr>\n",
       "      <th>2</th>\n",
       "      <td>remote_ratio</td>\n",
       "      <td>65.260504</td>\n",
       "      <td>0.288</td>\n",
       "    </tr>\n",
       "    <tr>\n",
       "      <th>3</th>\n",
       "      <td>comp_size_grade</td>\n",
       "      <td>13664.592581</td>\n",
       "      <td>0.006</td>\n",
       "    </tr>\n",
       "  </tbody>\n",
       "</table>\n",
       "</div>"
      ],
      "text/plain": [
       "          Features  Coefficients  p-values\n",
       "0        work_year   1281.400245     0.007\n",
       "1        exp_grade  28244.776064     0.000\n",
       "2     remote_ratio     65.260504     0.288\n",
       "3  comp_size_grade  13664.592581     0.006"
      ]
     },
     "execution_count": 32,
     "metadata": {},
     "output_type": "execute_result"
    }
   ],
   "source": [
    "reg_summary['Coefficients'] = reg.coef_\n",
    "reg_summary['p-values'] = p_values.round(3)\n",
    "reg_summary"
   ]
  },
  {
   "cell_type": "code",
   "execution_count": 34,
   "id": "25adf6fd",
   "metadata": {},
   "outputs": [
    {
     "data": {
      "text/html": [
       "<table class=\"simpletable\">\n",
       "<caption>OLS Regression Results</caption>\n",
       "<tr>\n",
       "  <th>Dep. Variable:</th>      <td>salary_in_usd</td>  <th>  R-squared:         </th> <td>   0.189</td>\n",
       "</tr>\n",
       "<tr>\n",
       "  <th>Model:</th>                   <td>OLS</td>       <th>  Adj. R-squared:    </th> <td>   0.179</td>\n",
       "</tr>\n",
       "<tr>\n",
       "  <th>Method:</th>             <td>Least Squares</td>  <th>  F-statistic:       </th> <td>   19.23</td>\n",
       "</tr>\n",
       "<tr>\n",
       "  <th>Date:</th>             <td>Thu, 20 Apr 2023</td> <th>  Prob (F-statistic):</th> <td>3.09e-14</td>\n",
       "</tr>\n",
       "<tr>\n",
       "  <th>Time:</th>                 <td>03:58:49</td>     <th>  Log-Likelihood:    </th> <td> -4059.4</td>\n",
       "</tr>\n",
       "<tr>\n",
       "  <th>No. Observations:</th>      <td>   335</td>      <th>  AIC:               </th> <td>   8129.</td>\n",
       "</tr>\n",
       "<tr>\n",
       "  <th>Df Residuals:</th>          <td>   330</td>      <th>  BIC:               </th> <td>   8148.</td>\n",
       "</tr>\n",
       "<tr>\n",
       "  <th>Df Model:</th>              <td>     4</td>      <th>                     </th>     <td> </td>   \n",
       "</tr>\n",
       "<tr>\n",
       "  <th>Covariance Type:</th>      <td>nonrobust</td>    <th>                     </th>     <td> </td>   \n",
       "</tr>\n",
       "</table>\n",
       "<table class=\"simpletable\">\n",
       "<tr>\n",
       "         <td></td>            <th>coef</th>     <th>std err</th>      <th>t</th>      <th>P>|t|</th>  <th>[0.025</th>    <th>0.975]</th>  \n",
       "</tr>\n",
       "<tr>\n",
       "  <th>const</th>           <td>-2.562e+06</td> <td> 9.12e+06</td> <td>   -0.281</td> <td> 0.779</td> <td>-2.05e+07</td> <td> 1.54e+07</td>\n",
       "</tr>\n",
       "<tr>\n",
       "  <th>work_year</th>       <td> 1281.4002</td> <td> 4513.293</td> <td>    0.284</td> <td> 0.777</td> <td>-7597.053</td> <td> 1.02e+04</td>\n",
       "</tr>\n",
       "<tr>\n",
       "  <th>exp_grade</th>       <td> 2.824e+04</td> <td> 3970.745</td> <td>    7.113</td> <td> 0.000</td> <td> 2.04e+04</td> <td> 3.61e+04</td>\n",
       "</tr>\n",
       "<tr>\n",
       "  <th>remote_ratio</th>    <td>   65.2605</td> <td>   61.006</td> <td>    1.070</td> <td> 0.286</td> <td>  -54.749</td> <td>  185.270</td>\n",
       "</tr>\n",
       "<tr>\n",
       "  <th>comp_size_grade</th> <td> 1.366e+04</td> <td> 4470.139</td> <td>    3.057</td> <td> 0.002</td> <td> 4871.031</td> <td> 2.25e+04</td>\n",
       "</tr>\n",
       "</table>\n",
       "<table class=\"simpletable\">\n",
       "<tr>\n",
       "  <th>Omnibus:</th>       <td> 8.088</td> <th>  Durbin-Watson:     </th> <td>   1.847</td>\n",
       "</tr>\n",
       "<tr>\n",
       "  <th>Prob(Omnibus):</th> <td> 0.018</td> <th>  Jarque-Bera (JB):  </th> <td>   7.949</td>\n",
       "</tr>\n",
       "<tr>\n",
       "  <th>Skew:</th>          <td> 0.358</td> <th>  Prob(JB):          </th> <td>  0.0188</td>\n",
       "</tr>\n",
       "<tr>\n",
       "  <th>Kurtosis:</th>      <td> 3.240</td> <th>  Cond. No.          </th> <td>7.57e+06</td>\n",
       "</tr>\n",
       "</table><br/><br/>Notes:<br/>[1] Standard Errors assume that the covariance matrix of the errors is correctly specified.<br/>[2] The condition number is large, 7.57e+06. This might indicate that there are<br/>strong multicollinearity or other numerical problems."
      ],
      "text/plain": [
       "<class 'statsmodels.iolib.summary.Summary'>\n",
       "\"\"\"\n",
       "                            OLS Regression Results                            \n",
       "==============================================================================\n",
       "Dep. Variable:          salary_in_usd   R-squared:                       0.189\n",
       "Model:                            OLS   Adj. R-squared:                  0.179\n",
       "Method:                 Least Squares   F-statistic:                     19.23\n",
       "Date:                Thu, 20 Apr 2023   Prob (F-statistic):           3.09e-14\n",
       "Time:                        03:58:49   Log-Likelihood:                -4059.4\n",
       "No. Observations:                 335   AIC:                             8129.\n",
       "Df Residuals:                     330   BIC:                             8148.\n",
       "Df Model:                           4                                         \n",
       "Covariance Type:            nonrobust                                         \n",
       "===================================================================================\n",
       "                      coef    std err          t      P>|t|      [0.025      0.975]\n",
       "-----------------------------------------------------------------------------------\n",
       "const           -2.562e+06   9.12e+06     -0.281      0.779   -2.05e+07    1.54e+07\n",
       "work_year        1281.4002   4513.293      0.284      0.777   -7597.053    1.02e+04\n",
       "exp_grade        2.824e+04   3970.745      7.113      0.000    2.04e+04    3.61e+04\n",
       "remote_ratio       65.2605     61.006      1.070      0.286     -54.749     185.270\n",
       "comp_size_grade  1.366e+04   4470.139      3.057      0.002    4871.031    2.25e+04\n",
       "==============================================================================\n",
       "Omnibus:                        8.088   Durbin-Watson:                   1.847\n",
       "Prob(Omnibus):                  0.018   Jarque-Bera (JB):                7.949\n",
       "Skew:                           0.358   Prob(JB):                       0.0188\n",
       "Kurtosis:                       3.240   Cond. No.                     7.57e+06\n",
       "==============================================================================\n",
       "\n",
       "Notes:\n",
       "[1] Standard Errors assume that the covariance matrix of the errors is correctly specified.\n",
       "[2] The condition number is large, 7.57e+06. This might indicate that there are\n",
       "strong multicollinearity or other numerical problems.\n",
       "\"\"\""
      ]
     },
     "execution_count": 34,
     "metadata": {},
     "output_type": "execute_result"
    }
   ],
   "source": [
    "x3 = sm.add_constant(x2)\n",
    "summ = sm.OLS(y, x3).fit()\n",
    "summ.summary()"
   ]
  },
  {
   "cell_type": "code",
   "execution_count": null,
   "id": "5aea0480",
   "metadata": {},
   "outputs": [],
   "source": []
  },
  {
   "cell_type": "markdown",
   "id": "df296c10",
   "metadata": {},
   "source": [
    "Some of our P values are too high. The next steps will be to start from the original simple linear regression and gradually add variables to observe the p values."
   ]
  },
  {
   "cell_type": "code",
   "execution_count": 39,
   "id": "4ff4e309",
   "metadata": {},
   "outputs": [],
   "source": [
    "x2 = us_salary[['work_year', 'exp_grade']]\n",
    "# adding just work year"
   ]
  },
  {
   "cell_type": "code",
   "execution_count": 41,
   "id": "2df69948",
   "metadata": {},
   "outputs": [
    {
     "data": {
      "text/html": [
       "<table class=\"simpletable\">\n",
       "<caption>OLS Regression Results</caption>\n",
       "<tr>\n",
       "  <th>Dep. Variable:</th>      <td>salary_in_usd</td>  <th>  R-squared:         </th> <td>   0.164</td>\n",
       "</tr>\n",
       "<tr>\n",
       "  <th>Model:</th>                   <td>OLS</td>       <th>  Adj. R-squared:    </th> <td>   0.159</td>\n",
       "</tr>\n",
       "<tr>\n",
       "  <th>Method:</th>             <td>Least Squares</td>  <th>  F-statistic:       </th> <td>   32.67</td>\n",
       "</tr>\n",
       "<tr>\n",
       "  <th>Date:</th>             <td>Mon, 24 Apr 2023</td> <th>  Prob (F-statistic):</th> <td>1.11e-13</td>\n",
       "</tr>\n",
       "<tr>\n",
       "  <th>Time:</th>                 <td>01:11:33</td>     <th>  Log-Likelihood:    </th> <td> -4064.4</td>\n",
       "</tr>\n",
       "<tr>\n",
       "  <th>No. Observations:</th>      <td>   335</td>      <th>  AIC:               </th> <td>   8135.</td>\n",
       "</tr>\n",
       "<tr>\n",
       "  <th>Df Residuals:</th>          <td>   332</td>      <th>  BIC:               </th> <td>   8146.</td>\n",
       "</tr>\n",
       "<tr>\n",
       "  <th>Df Model:</th>              <td>     2</td>      <th>                     </th>     <td> </td>   \n",
       "</tr>\n",
       "<tr>\n",
       "  <th>Covariance Type:</th>      <td>nonrobust</td>    <th>                     </th>     <td> </td>   \n",
       "</tr>\n",
       "</table>\n",
       "<table class=\"simpletable\">\n",
       "<tr>\n",
       "      <td></td>         <th>coef</th>     <th>std err</th>      <th>t</th>      <th>P>|t|</th>  <th>[0.025</th>    <th>0.975]</th>  \n",
       "</tr>\n",
       "<tr>\n",
       "  <th>const</th>     <td> 5.701e+06</td> <td> 8.85e+06</td> <td>    0.645</td> <td> 0.520</td> <td>-1.17e+07</td> <td> 2.31e+07</td>\n",
       "</tr>\n",
       "<tr>\n",
       "  <th>work_year</th> <td>-2791.0857</td> <td> 4377.906</td> <td>   -0.638</td> <td> 0.524</td> <td>-1.14e+04</td> <td> 5820.847</td>\n",
       "</tr>\n",
       "<tr>\n",
       "  <th>exp_grade</th> <td> 2.998e+04</td> <td> 3977.916</td> <td>    7.536</td> <td> 0.000</td> <td> 2.22e+04</td> <td> 3.78e+04</td>\n",
       "</tr>\n",
       "</table>\n",
       "<table class=\"simpletable\">\n",
       "<tr>\n",
       "  <th>Omnibus:</th>       <td> 8.185</td> <th>  Durbin-Watson:     </th> <td>   1.841</td>\n",
       "</tr>\n",
       "<tr>\n",
       "  <th>Prob(Omnibus):</th> <td> 0.017</td> <th>  Jarque-Bera (JB):  </th> <td>   8.054</td>\n",
       "</tr>\n",
       "<tr>\n",
       "  <th>Skew:</th>          <td> 0.361</td> <th>  Prob(JB):          </th> <td>  0.0178</td>\n",
       "</tr>\n",
       "<tr>\n",
       "  <th>Kurtosis:</th>      <td> 3.238</td> <th>  Cond. No.          </th> <td>7.25e+06</td>\n",
       "</tr>\n",
       "</table><br/><br/>Notes:<br/>[1] Standard Errors assume that the covariance matrix of the errors is correctly specified.<br/>[2] The condition number is large, 7.25e+06. This might indicate that there are<br/>strong multicollinearity or other numerical problems."
      ],
      "text/plain": [
       "<class 'statsmodels.iolib.summary.Summary'>\n",
       "\"\"\"\n",
       "                            OLS Regression Results                            \n",
       "==============================================================================\n",
       "Dep. Variable:          salary_in_usd   R-squared:                       0.164\n",
       "Model:                            OLS   Adj. R-squared:                  0.159\n",
       "Method:                 Least Squares   F-statistic:                     32.67\n",
       "Date:                Mon, 24 Apr 2023   Prob (F-statistic):           1.11e-13\n",
       "Time:                        01:11:33   Log-Likelihood:                -4064.4\n",
       "No. Observations:                 335   AIC:                             8135.\n",
       "Df Residuals:                     332   BIC:                             8146.\n",
       "Df Model:                           2                                         \n",
       "Covariance Type:            nonrobust                                         \n",
       "==============================================================================\n",
       "                 coef    std err          t      P>|t|      [0.025      0.975]\n",
       "------------------------------------------------------------------------------\n",
       "const       5.701e+06   8.85e+06      0.645      0.520   -1.17e+07    2.31e+07\n",
       "work_year  -2791.0857   4377.906     -0.638      0.524   -1.14e+04    5820.847\n",
       "exp_grade   2.998e+04   3977.916      7.536      0.000    2.22e+04    3.78e+04\n",
       "==============================================================================\n",
       "Omnibus:                        8.185   Durbin-Watson:                   1.841\n",
       "Prob(Omnibus):                  0.017   Jarque-Bera (JB):                8.054\n",
       "Skew:                           0.361   Prob(JB):                       0.0178\n",
       "Kurtosis:                       3.238   Cond. No.                     7.25e+06\n",
       "==============================================================================\n",
       "\n",
       "Notes:\n",
       "[1] Standard Errors assume that the covariance matrix of the errors is correctly specified.\n",
       "[2] The condition number is large, 7.25e+06. This might indicate that there are\n",
       "strong multicollinearity or other numerical problems.\n",
       "\"\"\""
      ]
     },
     "execution_count": 41,
     "metadata": {},
     "output_type": "execute_result"
    }
   ],
   "source": [
    "x3 = sm.add_constant(x2)\n",
    "summ = sm.OLS(y, x3).fit()\n",
    "summ.summary()"
   ]
  },
  {
   "cell_type": "code",
   "execution_count": 42,
   "id": "3126cbd2",
   "metadata": {},
   "outputs": [],
   "source": [
    "x2 = us_salary[['remote_ratio', 'exp_grade']]\n",
    "# adding just remote ratio"
   ]
  },
  {
   "cell_type": "code",
   "execution_count": 43,
   "id": "af883cbe",
   "metadata": {},
   "outputs": [
    {
     "data": {
      "text/html": [
       "<table class=\"simpletable\">\n",
       "<caption>OLS Regression Results</caption>\n",
       "<tr>\n",
       "  <th>Dep. Variable:</th>      <td>salary_in_usd</td>  <th>  R-squared:         </th> <td>   0.165</td>\n",
       "</tr>\n",
       "<tr>\n",
       "  <th>Model:</th>                   <td>OLS</td>       <th>  Adj. R-squared:    </th> <td>   0.160</td>\n",
       "</tr>\n",
       "<tr>\n",
       "  <th>Method:</th>             <td>Least Squares</td>  <th>  F-statistic:       </th> <td>   32.87</td>\n",
       "</tr>\n",
       "<tr>\n",
       "  <th>Date:</th>             <td>Mon, 24 Apr 2023</td> <th>  Prob (F-statistic):</th> <td>9.45e-14</td>\n",
       "</tr>\n",
       "<tr>\n",
       "  <th>Time:</th>                 <td>01:12:16</td>     <th>  Log-Likelihood:    </th> <td> -4064.2</td>\n",
       "</tr>\n",
       "<tr>\n",
       "  <th>No. Observations:</th>      <td>   335</td>      <th>  AIC:               </th> <td>   8134.</td>\n",
       "</tr>\n",
       "<tr>\n",
       "  <th>Df Residuals:</th>          <td>   332</td>      <th>  BIC:               </th> <td>   8146.</td>\n",
       "</tr>\n",
       "<tr>\n",
       "  <th>Df Model:</th>              <td>     2</td>      <th>                     </th>     <td> </td>   \n",
       "</tr>\n",
       "<tr>\n",
       "  <th>Covariance Type:</th>      <td>nonrobust</td>    <th>                     </th>     <td> </td>   \n",
       "</tr>\n",
       "</table>\n",
       "<table class=\"simpletable\">\n",
       "<tr>\n",
       "        <td></td>          <th>coef</th>     <th>std err</th>      <th>t</th>      <th>P>|t|</th>  <th>[0.025</th>    <th>0.975]</th>  \n",
       "</tr>\n",
       "<tr>\n",
       "  <th>const</th>        <td> 5.819e+04</td> <td> 1.06e+04</td> <td>    5.466</td> <td> 0.000</td> <td> 3.72e+04</td> <td> 7.91e+04</td>\n",
       "</tr>\n",
       "<tr>\n",
       "  <th>remote_ratio</th> <td>   52.6065</td> <td>   61.312</td> <td>    0.858</td> <td> 0.392</td> <td>  -68.002</td> <td>  173.215</td>\n",
       "</tr>\n",
       "<tr>\n",
       "  <th>exp_grade</th>    <td> 2.876e+04</td> <td> 3583.993</td> <td>    8.024</td> <td> 0.000</td> <td> 2.17e+04</td> <td> 3.58e+04</td>\n",
       "</tr>\n",
       "</table>\n",
       "<table class=\"simpletable\">\n",
       "<tr>\n",
       "  <th>Omnibus:</th>       <td> 9.035</td> <th>  Durbin-Watson:     </th> <td>   1.847</td>\n",
       "</tr>\n",
       "<tr>\n",
       "  <th>Prob(Omnibus):</th> <td> 0.011</td> <th>  Jarque-Bera (JB):  </th> <td>   8.971</td>\n",
       "</tr>\n",
       "<tr>\n",
       "  <th>Skew:</th>          <td> 0.377</td> <th>  Prob(JB):          </th> <td>  0.0113</td>\n",
       "</tr>\n",
       "<tr>\n",
       "  <th>Kurtosis:</th>      <td> 3.274</td> <th>  Cond. No.          </th> <td>    392.</td>\n",
       "</tr>\n",
       "</table><br/><br/>Notes:<br/>[1] Standard Errors assume that the covariance matrix of the errors is correctly specified."
      ],
      "text/plain": [
       "<class 'statsmodels.iolib.summary.Summary'>\n",
       "\"\"\"\n",
       "                            OLS Regression Results                            \n",
       "==============================================================================\n",
       "Dep. Variable:          salary_in_usd   R-squared:                       0.165\n",
       "Model:                            OLS   Adj. R-squared:                  0.160\n",
       "Method:                 Least Squares   F-statistic:                     32.87\n",
       "Date:                Mon, 24 Apr 2023   Prob (F-statistic):           9.45e-14\n",
       "Time:                        01:12:16   Log-Likelihood:                -4064.2\n",
       "No. Observations:                 335   AIC:                             8134.\n",
       "Df Residuals:                     332   BIC:                             8146.\n",
       "Df Model:                           2                                         \n",
       "Covariance Type:            nonrobust                                         \n",
       "================================================================================\n",
       "                   coef    std err          t      P>|t|      [0.025      0.975]\n",
       "--------------------------------------------------------------------------------\n",
       "const         5.819e+04   1.06e+04      5.466      0.000    3.72e+04    7.91e+04\n",
       "remote_ratio    52.6065     61.312      0.858      0.392     -68.002     173.215\n",
       "exp_grade     2.876e+04   3583.993      8.024      0.000    2.17e+04    3.58e+04\n",
       "==============================================================================\n",
       "Omnibus:                        9.035   Durbin-Watson:                   1.847\n",
       "Prob(Omnibus):                  0.011   Jarque-Bera (JB):                8.971\n",
       "Skew:                           0.377   Prob(JB):                       0.0113\n",
       "Kurtosis:                       3.274   Cond. No.                         392.\n",
       "==============================================================================\n",
       "\n",
       "Notes:\n",
       "[1] Standard Errors assume that the covariance matrix of the errors is correctly specified.\n",
       "\"\"\""
      ]
     },
     "execution_count": 43,
     "metadata": {},
     "output_type": "execute_result"
    }
   ],
   "source": [
    "x3 = sm.add_constant(x2)\n",
    "summ = sm.OLS(y, x3).fit()\n",
    "summ.summary()"
   ]
  },
  {
   "cell_type": "code",
   "execution_count": 44,
   "id": "c6d52626",
   "metadata": {},
   "outputs": [],
   "source": [
    "x2 = us_salary[['comp_size_grade', 'exp_grade']]\n",
    "# adding just company size"
   ]
  },
  {
   "cell_type": "code",
   "execution_count": 45,
   "id": "d259c8df",
   "metadata": {},
   "outputs": [
    {
     "data": {
      "text/html": [
       "<table class=\"simpletable\">\n",
       "<caption>OLS Regression Results</caption>\n",
       "<tr>\n",
       "  <th>Dep. Variable:</th>      <td>salary_in_usd</td>  <th>  R-squared:         </th> <td>   0.186</td>\n",
       "</tr>\n",
       "<tr>\n",
       "  <th>Model:</th>                   <td>OLS</td>       <th>  Adj. R-squared:    </th> <td>   0.181</td>\n",
       "</tr>\n",
       "<tr>\n",
       "  <th>Method:</th>             <td>Least Squares</td>  <th>  F-statistic:       </th> <td>   37.98</td>\n",
       "</tr>\n",
       "<tr>\n",
       "  <th>Date:</th>             <td>Mon, 24 Apr 2023</td> <th>  Prob (F-statistic):</th> <td>1.41e-15</td>\n",
       "</tr>\n",
       "<tr>\n",
       "  <th>Time:</th>                 <td>01:12:55</td>     <th>  Log-Likelihood:    </th> <td> -4060.0</td>\n",
       "</tr>\n",
       "<tr>\n",
       "  <th>No. Observations:</th>      <td>   335</td>      <th>  AIC:               </th> <td>   8126.</td>\n",
       "</tr>\n",
       "<tr>\n",
       "  <th>Df Residuals:</th>          <td>   332</td>      <th>  BIC:               </th> <td>   8137.</td>\n",
       "</tr>\n",
       "<tr>\n",
       "  <th>Df Model:</th>              <td>     2</td>      <th>                     </th>     <td> </td>   \n",
       "</tr>\n",
       "<tr>\n",
       "  <th>Covariance Type:</th>      <td>nonrobust</td>    <th>                     </th>     <td> </td>   \n",
       "</tr>\n",
       "</table>\n",
       "<table class=\"simpletable\">\n",
       "<tr>\n",
       "         <td></td>            <th>coef</th>     <th>std err</th>      <th>t</th>      <th>P>|t|</th>  <th>[0.025</th>    <th>0.975]</th>  \n",
       "</tr>\n",
       "<tr>\n",
       "  <th>const</th>           <td> 3.315e+04</td> <td> 1.35e+04</td> <td>    2.462</td> <td> 0.014</td> <td> 6662.777</td> <td> 5.96e+04</td>\n",
       "</tr>\n",
       "<tr>\n",
       "  <th>comp_size_grade</th> <td> 1.305e+04</td> <td> 4284.945</td> <td>    3.046</td> <td> 0.003</td> <td> 4623.826</td> <td> 2.15e+04</td>\n",
       "</tr>\n",
       "<tr>\n",
       "  <th>exp_grade</th>       <td> 2.889e+04</td> <td> 3536.342</td> <td>    8.170</td> <td> 0.000</td> <td> 2.19e+04</td> <td> 3.58e+04</td>\n",
       "</tr>\n",
       "</table>\n",
       "<table class=\"simpletable\">\n",
       "<tr>\n",
       "  <th>Omnibus:</th>       <td> 7.459</td> <th>  Durbin-Watson:     </th> <td>   1.841</td>\n",
       "</tr>\n",
       "<tr>\n",
       "  <th>Prob(Omnibus):</th> <td> 0.024</td> <th>  Jarque-Bera (JB):  </th> <td>   7.280</td>\n",
       "</tr>\n",
       "<tr>\n",
       "  <th>Skew:</th>          <td> 0.342</td> <th>  Prob(JB):          </th> <td>  0.0263</td>\n",
       "</tr>\n",
       "<tr>\n",
       "  <th>Kurtosis:</th>      <td> 3.231</td> <th>  Cond. No.          </th> <td>    20.8</td>\n",
       "</tr>\n",
       "</table><br/><br/>Notes:<br/>[1] Standard Errors assume that the covariance matrix of the errors is correctly specified."
      ],
      "text/plain": [
       "<class 'statsmodels.iolib.summary.Summary'>\n",
       "\"\"\"\n",
       "                            OLS Regression Results                            \n",
       "==============================================================================\n",
       "Dep. Variable:          salary_in_usd   R-squared:                       0.186\n",
       "Model:                            OLS   Adj. R-squared:                  0.181\n",
       "Method:                 Least Squares   F-statistic:                     37.98\n",
       "Date:                Mon, 24 Apr 2023   Prob (F-statistic):           1.41e-15\n",
       "Time:                        01:12:55   Log-Likelihood:                -4060.0\n",
       "No. Observations:                 335   AIC:                             8126.\n",
       "Df Residuals:                     332   BIC:                             8137.\n",
       "Df Model:                           2                                         \n",
       "Covariance Type:            nonrobust                                         \n",
       "===================================================================================\n",
       "                      coef    std err          t      P>|t|      [0.025      0.975]\n",
       "-----------------------------------------------------------------------------------\n",
       "const            3.315e+04   1.35e+04      2.462      0.014    6662.777    5.96e+04\n",
       "comp_size_grade  1.305e+04   4284.945      3.046      0.003    4623.826    2.15e+04\n",
       "exp_grade        2.889e+04   3536.342      8.170      0.000    2.19e+04    3.58e+04\n",
       "==============================================================================\n",
       "Omnibus:                        7.459   Durbin-Watson:                   1.841\n",
       "Prob(Omnibus):                  0.024   Jarque-Bera (JB):                7.280\n",
       "Skew:                           0.342   Prob(JB):                       0.0263\n",
       "Kurtosis:                       3.231   Cond. No.                         20.8\n",
       "==============================================================================\n",
       "\n",
       "Notes:\n",
       "[1] Standard Errors assume that the covariance matrix of the errors is correctly specified.\n",
       "\"\"\""
      ]
     },
     "execution_count": 45,
     "metadata": {},
     "output_type": "execute_result"
    }
   ],
   "source": [
    "x3 = sm.add_constant(x2)\n",
    "summ = sm.OLS(y, x3).fit()\n",
    "summ.summary()"
   ]
  },
  {
   "cell_type": "code",
   "execution_count": 1,
   "id": "74a14ecb",
   "metadata": {},
   "outputs": [
    {
     "ename": "NameError",
     "evalue": "name 'reg' is not defined",
     "output_type": "error",
     "traceback": [
      "\u001b[0;31m---------------------------------------------------------------------------\u001b[0m",
      "\u001b[0;31mNameError\u001b[0m                                 Traceback (most recent call last)",
      "\u001b[0;32m/var/folders/_j/fzbq3gvn0cx_99l539dvts7h0000gp/T/ipykernel_2429/140861778.py\u001b[0m in \u001b[0;36m<module>\u001b[0;34m\u001b[0m\n\u001b[0;32m----> 1\u001b[0;31m \u001b[0mreg\u001b[0m\u001b[0;34m.\u001b[0m\u001b[0mfit\u001b[0m\u001b[0;34m(\u001b[0m\u001b[0mx2\u001b[0m\u001b[0;34m,\u001b[0m \u001b[0my\u001b[0m\u001b[0;34m)\u001b[0m\u001b[0;34m\u001b[0m\u001b[0;34m\u001b[0m\u001b[0m\n\u001b[0m",
      "\u001b[0;31mNameError\u001b[0m: name 'reg' is not defined"
     ]
    }
   ],
   "source": [
    "reg.fit(x2, y)"
   ]
  },
  {
   "cell_type": "code",
   "execution_count": 48,
   "id": "36f4e72c",
   "metadata": {},
   "outputs": [
    {
     "data": {
      "text/plain": [
       "array([13052.89167244, 28893.29134064])"
      ]
     },
     "execution_count": 48,
     "metadata": {},
     "output_type": "execute_result"
    }
   ],
   "source": [
    "reg.coef_"
   ]
  },
  {
   "cell_type": "code",
   "execution_count": 49,
   "id": "be9a7c3e",
   "metadata": {},
   "outputs": [
    {
     "data": {
      "text/plain": [
       "33145.060145236115"
      ]
     },
     "execution_count": 49,
     "metadata": {},
     "output_type": "execute_result"
    }
   ],
   "source": [
    "reg.intercept_"
   ]
  },
  {
   "cell_type": "code",
   "execution_count": 50,
   "id": "50c2a1cf",
   "metadata": {},
   "outputs": [
    {
     "data": {
      "text/plain": [
       "0.18617694714614896"
      ]
     },
     "execution_count": 50,
     "metadata": {},
     "output_type": "execute_result"
    }
   ],
   "source": [
    "reg.score(x2, y)"
   ]
  },
  {
   "cell_type": "code",
   "execution_count": 51,
   "id": "73814578",
   "metadata": {},
   "outputs": [
    {
     "data": {
      "text/plain": [
       "(335, 2)"
      ]
     },
     "execution_count": 51,
     "metadata": {},
     "output_type": "execute_result"
    }
   ],
   "source": [
    "x2.shape"
   ]
  },
  {
   "cell_type": "code",
   "execution_count": 53,
   "id": "10e663db",
   "metadata": {},
   "outputs": [],
   "source": [
    "r2 = reg.score(x2, y)\n",
    "n = x2.shape[0]\n",
    "p = x2.shape[1]\n",
    "adjusted_r2 = 1-(1-r2)*(n-1)/(n-p-1)"
   ]
  },
  {
   "cell_type": "code",
   "execution_count": 54,
   "id": "48eefa96",
   "metadata": {},
   "outputs": [
    {
     "data": {
      "text/plain": [
       "0.1812743986349813"
      ]
     },
     "execution_count": 54,
     "metadata": {},
     "output_type": "execute_result"
    }
   ],
   "source": [
    "adjusted_r2"
   ]
  },
  {
   "cell_type": "code",
   "execution_count": 55,
   "id": "296d2f44",
   "metadata": {},
   "outputs": [
    {
     "data": {
      "text/plain": [
       "(array([ 7.67940736, 65.05416532]), array([5.89923484e-03, 1.33020089e-14]))"
      ]
     },
     "execution_count": 55,
     "metadata": {},
     "output_type": "execute_result"
    }
   ],
   "source": [
    "f_regression(x2, y)"
   ]
  },
  {
   "cell_type": "code",
   "execution_count": 56,
   "id": "05fa63d1",
   "metadata": {},
   "outputs": [
    {
     "data": {
      "text/plain": [
       "array([0.006, 0.   ])"
      ]
     },
     "execution_count": 56,
     "metadata": {},
     "output_type": "execute_result"
    }
   ],
   "source": [
    "p_values = f_regression(x2, y)[1]\n",
    "p_values.round(3)"
   ]
  },
  {
   "cell_type": "code",
   "execution_count": 57,
   "id": "dee5dea4",
   "metadata": {},
   "outputs": [
    {
     "data": {
      "text/html": [
       "<div>\n",
       "<style scoped>\n",
       "    .dataframe tbody tr th:only-of-type {\n",
       "        vertical-align: middle;\n",
       "    }\n",
       "\n",
       "    .dataframe tbody tr th {\n",
       "        vertical-align: top;\n",
       "    }\n",
       "\n",
       "    .dataframe thead th {\n",
       "        text-align: right;\n",
       "    }\n",
       "</style>\n",
       "<table border=\"1\" class=\"dataframe\">\n",
       "  <thead>\n",
       "    <tr style=\"text-align: right;\">\n",
       "      <th></th>\n",
       "      <th>Features</th>\n",
       "    </tr>\n",
       "  </thead>\n",
       "  <tbody>\n",
       "    <tr>\n",
       "      <th>0</th>\n",
       "      <td>comp_size_grade</td>\n",
       "    </tr>\n",
       "    <tr>\n",
       "      <th>1</th>\n",
       "      <td>exp_grade</td>\n",
       "    </tr>\n",
       "  </tbody>\n",
       "</table>\n",
       "</div>"
      ],
      "text/plain": [
       "          Features\n",
       "0  comp_size_grade\n",
       "1        exp_grade"
      ]
     },
     "execution_count": 57,
     "metadata": {},
     "output_type": "execute_result"
    }
   ],
   "source": [
    "reg_summary = pd.DataFrame(data = x2.columns.values, columns = ['Features'])\n",
    "reg_summary"
   ]
  },
  {
   "cell_type": "code",
   "execution_count": 58,
   "id": "12ceb521",
   "metadata": {},
   "outputs": [
    {
     "data": {
      "text/html": [
       "<div>\n",
       "<style scoped>\n",
       "    .dataframe tbody tr th:only-of-type {\n",
       "        vertical-align: middle;\n",
       "    }\n",
       "\n",
       "    .dataframe tbody tr th {\n",
       "        vertical-align: top;\n",
       "    }\n",
       "\n",
       "    .dataframe thead th {\n",
       "        text-align: right;\n",
       "    }\n",
       "</style>\n",
       "<table border=\"1\" class=\"dataframe\">\n",
       "  <thead>\n",
       "    <tr style=\"text-align: right;\">\n",
       "      <th></th>\n",
       "      <th>Features</th>\n",
       "      <th>Coefficients</th>\n",
       "      <th>p-values</th>\n",
       "    </tr>\n",
       "  </thead>\n",
       "  <tbody>\n",
       "    <tr>\n",
       "      <th>0</th>\n",
       "      <td>comp_size_grade</td>\n",
       "      <td>13052.891672</td>\n",
       "      <td>0.006</td>\n",
       "    </tr>\n",
       "    <tr>\n",
       "      <th>1</th>\n",
       "      <td>exp_grade</td>\n",
       "      <td>28893.291341</td>\n",
       "      <td>0.000</td>\n",
       "    </tr>\n",
       "  </tbody>\n",
       "</table>\n",
       "</div>"
      ],
      "text/plain": [
       "          Features  Coefficients  p-values\n",
       "0  comp_size_grade  13052.891672     0.006\n",
       "1        exp_grade  28893.291341     0.000"
      ]
     },
     "execution_count": 58,
     "metadata": {},
     "output_type": "execute_result"
    }
   ],
   "source": [
    "reg_summary['Coefficients'] = reg.coef_\n",
    "reg_summary['p-values'] = p_values.round(3)\n",
    "reg_summary"
   ]
  },
  {
   "cell_type": "markdown",
   "id": "6ab80ec2",
   "metadata": {},
   "source": [
    "These p values indicate that both of these variables are significant. We will keep with these multiple regression from our data."
   ]
  },
  {
   "cell_type": "markdown",
   "id": "1283623a",
   "metadata": {},
   "source": [
    "Interpret the following parts of your results summary. Include an explanation of what the given numbers mean in regards to your model.\n",
    "\n",
    "- R-squared \n",
    "\n",
    "The value is 0.18617694714614896. This number has risen from the simple regression, thus giving more explanatory power. This is a given, since adding variables will always raise R^2. This is a statistical measure that indicates how much of the variation of a dependent variable (salary in USD) is explained by an independent variable (work experience level and company size) in a regression model. However, note that the value of R^2 is still quite low. There are most likely many factors missing to explain the model.\n",
    "\n",
    "- Adjusted R-squared\n",
    "\n",
    "The value is 0.1812743986349813. This number has risen from the simple regression, thus giving more explanatory power as well. Since they both increased, we should accept the company size feature as significant and should be included in our regression. This number is lower than R^2 as always since it adds precision and reliability by considering the impact of additional independent variables that tend to skew the results of R-squared measurements. This number is still low, however, and further iterates that there are missing factors.\n",
    "\n",
    "- Coefficient of independent variables\n",
    "\n",
    "The coefficients are both positive, so as each rise, salary rises as well. Since both of these are on similar scales, we can canclude that experience level is a bigger factor in salary explanation than the company size since 28893.291341 > 13052.891672.\n",
    "\n",
    "- P-value of T-statistic\n",
    "\n",
    "The p-values of the T-statistic are less than 0.05. We can determine that that they both are useful features with a 95% confidence, with 5% being due to chance/that we fail to reject the null hypothesis.\n",
    "\n",
    "- P-value of F-statistic\n",
    "\n",
    "The p-value of the F-statistic is virtually 0. We can determine that they are both useful features in a joint effect for the overall fit of the regression."
   ]
  },
  {
   "cell_type": "code",
   "execution_count": null,
   "id": "8974db94",
   "metadata": {},
   "outputs": [],
   "source": []
  }
 ],
 "metadata": {
  "kernelspec": {
   "display_name": "Python 3 (ipykernel)",
   "language": "python",
   "name": "python3"
  },
  "language_info": {
   "codemirror_mode": {
    "name": "ipython",
    "version": 3
   },
   "file_extension": ".py",
   "mimetype": "text/x-python",
   "name": "python",
   "nbconvert_exporter": "python",
   "pygments_lexer": "ipython3",
   "version": "3.9.13"
  }
 },
 "nbformat": 4,
 "nbformat_minor": 5
}
